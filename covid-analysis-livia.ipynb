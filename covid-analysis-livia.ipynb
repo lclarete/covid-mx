{
 "cells": [
  {
   "cell_type": "code",
   "execution_count": 5,
   "id": "964d97d4",
   "metadata": {
    "tags": []
   },
   "outputs": [],
   "source": [
    "import numpy as np\n",
    "import pandas as pd\n",
    "import dtale\n",
    "import seaborn as sns\n",
    "# sns.set_palette(\"Set3\")\n",
    "import matplotlib.pyplot as plt\n",
    "import warnings\n",
    "warnings.filterwarnings(\"ignore\")"
   ]
  },
  {
   "cell_type": "markdown",
   "id": "b3bbb7af-a6c1-4954-aa92-9301b42f6d07",
   "metadata": {
    "tags": []
   },
   "source": [
    "# Read data"
   ]
  },
  {
   "cell_type": "code",
   "execution_count": 6,
   "id": "ee218e23",
   "metadata": {
    "tags": []
   },
   "outputs": [],
   "source": [
    "data = pd.read_csv('./data/230517COVID19MEXICO.csv', \n",
    "                   na_values=[97, 98, 99, 999, 9999-99-99, '9999-99-99', np.nan, 'non', 'no value'],\n",
    "                   # importing a sample of the dataset\n",
    "                   nrows=10000\n",
    "                  )"
   ]
  },
  {
   "cell_type": "code",
   "execution_count": 7,
   "id": "5626ffd2",
   "metadata": {
    "tags": []
   },
   "outputs": [
    {
     "data": {
      "text/html": [
       "<div>\n",
       "<style scoped>\n",
       "    .dataframe tbody tr th:only-of-type {\n",
       "        vertical-align: middle;\n",
       "    }\n",
       "\n",
       "    .dataframe tbody tr th {\n",
       "        vertical-align: top;\n",
       "    }\n",
       "\n",
       "    .dataframe thead th {\n",
       "        text-align: right;\n",
       "    }\n",
       "</style>\n",
       "<table border=\"1\" class=\"dataframe\">\n",
       "  <thead>\n",
       "    <tr style=\"text-align: right;\">\n",
       "      <th></th>\n",
       "      <th>FECHA_ACTUALIZACION</th>\n",
       "      <th>ID_REGISTRO</th>\n",
       "      <th>ORIGEN</th>\n",
       "      <th>SECTOR</th>\n",
       "      <th>ENTIDAD_UM</th>\n",
       "      <th>SEXO</th>\n",
       "      <th>ENTIDAD_NAC</th>\n",
       "      <th>ENTIDAD_RES</th>\n",
       "      <th>MUNICIPIO_RES</th>\n",
       "      <th>TIPO_PACIENTE</th>\n",
       "      <th>...</th>\n",
       "      <th>OTRO_CASO</th>\n",
       "      <th>TOMA_MUESTRA_LAB</th>\n",
       "      <th>RESULTADO_LAB</th>\n",
       "      <th>TOMA_MUESTRA_ANTIGENO</th>\n",
       "      <th>RESULTADO_ANTIGENO</th>\n",
       "      <th>CLASIFICACION_FINAL</th>\n",
       "      <th>MIGRANTE</th>\n",
       "      <th>PAIS_NACIONALIDAD</th>\n",
       "      <th>PAIS_ORIGEN</th>\n",
       "      <th>UCI</th>\n",
       "    </tr>\n",
       "  </thead>\n",
       "  <tbody>\n",
       "    <tr>\n",
       "      <th>0</th>\n",
       "      <td>2023-05-16</td>\n",
       "      <td>0741e4</td>\n",
       "      <td>2</td>\n",
       "      <td>6</td>\n",
       "      <td>9</td>\n",
       "      <td>2</td>\n",
       "      <td>9.0</td>\n",
       "      <td>9</td>\n",
       "      <td>16</td>\n",
       "      <td>2</td>\n",
       "      <td>...</td>\n",
       "      <td>2.0</td>\n",
       "      <td>1</td>\n",
       "      <td>4.0</td>\n",
       "      <td>2</td>\n",
       "      <td>NaN</td>\n",
       "      <td>2</td>\n",
       "      <td>NaN</td>\n",
       "      <td>México</td>\n",
       "      <td>NaN</td>\n",
       "      <td>2.0</td>\n",
       "    </tr>\n",
       "  </tbody>\n",
       "</table>\n",
       "<p>1 rows × 40 columns</p>\n",
       "</div>"
      ],
      "text/plain": [
       "  FECHA_ACTUALIZACION ID_REGISTRO  ORIGEN  SECTOR  ENTIDAD_UM  SEXO  \\\n",
       "0          2023-05-16      0741e4       2       6           9     2   \n",
       "\n",
       "   ENTIDAD_NAC  ENTIDAD_RES  MUNICIPIO_RES  TIPO_PACIENTE  ... OTRO_CASO  \\\n",
       "0          9.0            9             16              2  ...       2.0   \n",
       "\n",
       "  TOMA_MUESTRA_LAB RESULTADO_LAB  TOMA_MUESTRA_ANTIGENO  RESULTADO_ANTIGENO  \\\n",
       "0                1           4.0                      2                 NaN   \n",
       "\n",
       "   CLASIFICACION_FINAL  MIGRANTE  PAIS_NACIONALIDAD  PAIS_ORIGEN  UCI  \n",
       "0                    2       NaN             México          NaN  2.0  \n",
       "\n",
       "[1 rows x 40 columns]"
      ]
     },
     "execution_count": 7,
     "metadata": {},
     "output_type": "execute_result"
    }
   ],
   "source": [
    "data.head(1)"
   ]
  },
  {
   "cell_type": "code",
   "execution_count": 8,
   "id": "ce403734",
   "metadata": {
    "tags": []
   },
   "outputs": [
    {
     "data": {
      "text/plain": [
       "(10000, 40)"
      ]
     },
     "execution_count": 8,
     "metadata": {},
     "output_type": "execute_result"
    }
   ],
   "source": [
    "data.shape"
   ]
  },
  {
   "cell_type": "code",
   "execution_count": 9,
   "id": "b0433974",
   "metadata": {
    "tags": []
   },
   "outputs": [],
   "source": [
    "# r library for building charts from Mexico: https://github.com/diegovalle/mxmaps/tree/master\n",
    "# data.MUNICIPIO_RES.value_counts()[0:30]"
   ]
  },
  {
   "cell_type": "code",
   "execution_count": 10,
   "id": "6690a936",
   "metadata": {
    "tags": []
   },
   "outputs": [
    {
     "data": {
      "text/plain": [
       "Index(['FECHA_ACTUALIZACION', 'ID_REGISTRO', 'ORIGEN', 'SECTOR', 'ENTIDAD_UM',\n",
       "       'SEXO', 'ENTIDAD_NAC', 'ENTIDAD_RES', 'MUNICIPIO_RES', 'TIPO_PACIENTE',\n",
       "       'FECHA_INGRESO', 'FECHA_SINTOMAS', 'FECHA_DEF', 'INTUBADO', 'NEUMONIA',\n",
       "       'EDAD', 'NACIONALIDAD', 'EMBARAZO', 'HABLA_LENGUA_INDIG', 'INDIGENA',\n",
       "       'DIABETES', 'EPOC', 'ASMA', 'INMUSUPR', 'HIPERTENSION', 'OTRA_COM',\n",
       "       'CARDIOVASCULAR', 'OBESIDAD', 'RENAL_CRONICA', 'TABAQUISMO',\n",
       "       'OTRO_CASO', 'TOMA_MUESTRA_LAB', 'RESULTADO_LAB',\n",
       "       'TOMA_MUESTRA_ANTIGENO', 'RESULTADO_ANTIGENO', 'CLASIFICACION_FINAL',\n",
       "       'MIGRANTE', 'PAIS_NACIONALIDAD', 'PAIS_ORIGEN', 'UCI'],\n",
       "      dtype='object')"
      ]
     },
     "execution_count": 10,
     "metadata": {},
     "output_type": "execute_result"
    }
   ],
   "source": [
    "data.columns"
   ]
  },
  {
   "cell_type": "markdown",
   "id": "4fd8a2e8-7098-4bce-b835-2436af3035a5",
   "metadata": {
    "tags": []
   },
   "source": [
    "# Result: medical follow up after hospitalization"
   ]
  },
  {
   "cell_type": "code",
   "execution_count": 119,
   "id": "fefb8f5d-85ab-4761-b3e2-ae71c190ff26",
   "metadata": {
    "tags": []
   },
   "outputs": [],
   "source": [
    "# hospitalized > intubado ou UCI > death\n",
    "\n",
    "import pandas as pd\n",
    "import numpy as np\n",
    "\n",
    "def create_patient_status(tipo_paciente, intubado, fecha_def, UCI):\n",
    "    def categorize_patient(row):\n",
    "        \n",
    "        if not pd.isna(row['FECHA_DEF']): #if empty death date, patient dismissed alive\n",
    "            return \"Deceased\"\n",
    "            \n",
    "        elif row['UCI'] == 1:\n",
    "            return \"Ventilated or UCI\"\n",
    "        \n",
    "        elif row['TIPO_PACIENTE'] == 2 and row['INTUBADO'] == 2 and row['UCI'] == 2:\n",
    "            return \"Ventilated or UCI\"\n",
    "            \n",
    "        elif row['TIPO_PACIENTE'] == 2 and row['INTUBADO'] == 2:\n",
    "            return \"Ventilated\"\n",
    "\n",
    "        else:\n",
    "            return \"Dismissed no complications\"\n",
    "\n",
    "    patient_status = pd.DataFrame({'TIPO_PACIENTE': tipo_paciente, \n",
    "                                   'INTUBADO': intubado, \n",
    "                                   'FECHA_DEF': fecha_def,\n",
    "                                   'UCI': UCI\n",
    "                                  })\n",
    "    patient_status['Patient_Status'] = patient_status.apply(categorize_patient, axis=1)\n",
    "\n",
    "    return patient_status['Patient_Status']\n",
    "\n",
    "\n",
    "df = pd.DataFrame(data)\n",
    "\n",
    "result = create_patient_status(df['TIPO_PACIENTE'], df['INTUBADO'], df['FECHA_DEF'], df['UCI'])"
   ]
  },
  {
   "cell_type": "code",
   "execution_count": 120,
   "id": "b496be51-2d20-40bc-8aea-205332f24e34",
   "metadata": {
    "tags": []
   },
   "outputs": [],
   "source": [
    "df = data.copy()\n",
    "df['result'] = result"
   ]
  },
  {
   "cell_type": "code",
   "execution_count": 121,
   "id": "37278a59-82f6-4042-89a5-0ed46fb18116",
   "metadata": {
    "tags": []
   },
   "outputs": [
    {
     "data": {
      "text/plain": [
       "Dismissed no complications    9404\n",
       "Ventilated or UCI              519\n",
       "Deceased                        77\n",
       "Name: result, dtype: int64"
      ]
     },
     "execution_count": 121,
     "metadata": {},
     "output_type": "execute_result"
    }
   ],
   "source": [
    "df.result.value_counts()"
   ]
  },
  {
   "cell_type": "code",
   "execution_count": 122,
   "id": "d7fc6166-640f-4611-87b6-e36c777f2ea9",
   "metadata": {
    "tags": []
   },
   "outputs": [
    {
     "data": {
      "text/html": [
       "<div>\n",
       "<style scoped>\n",
       "    .dataframe tbody tr th:only-of-type {\n",
       "        vertical-align: middle;\n",
       "    }\n",
       "\n",
       "    .dataframe tbody tr th {\n",
       "        vertical-align: top;\n",
       "    }\n",
       "\n",
       "    .dataframe thead th {\n",
       "        text-align: right;\n",
       "    }\n",
       "</style>\n",
       "<table border=\"1\" class=\"dataframe\">\n",
       "  <thead>\n",
       "    <tr style=\"text-align: right;\">\n",
       "      <th></th>\n",
       "      <th>FECHA_ACTUALIZACION</th>\n",
       "      <th>ID_REGISTRO</th>\n",
       "      <th>ORIGEN</th>\n",
       "      <th>SECTOR</th>\n",
       "      <th>ENTIDAD_UM</th>\n",
       "      <th>SEXO</th>\n",
       "      <th>ENTIDAD_NAC</th>\n",
       "      <th>ENTIDAD_RES</th>\n",
       "      <th>MUNICIPIO_RES</th>\n",
       "      <th>TIPO_PACIENTE</th>\n",
       "      <th>...</th>\n",
       "      <th>TOMA_MUESTRA_LAB</th>\n",
       "      <th>RESULTADO_LAB</th>\n",
       "      <th>TOMA_MUESTRA_ANTIGENO</th>\n",
       "      <th>RESULTADO_ANTIGENO</th>\n",
       "      <th>CLASIFICACION_FINAL</th>\n",
       "      <th>MIGRANTE</th>\n",
       "      <th>PAIS_NACIONALIDAD</th>\n",
       "      <th>PAIS_ORIGEN</th>\n",
       "      <th>UCI</th>\n",
       "      <th>result</th>\n",
       "    </tr>\n",
       "  </thead>\n",
       "  <tbody>\n",
       "    <tr>\n",
       "      <th>0</th>\n",
       "      <td>2023-05-16</td>\n",
       "      <td>0741e4</td>\n",
       "      <td>2</td>\n",
       "      <td>6</td>\n",
       "      <td>9</td>\n",
       "      <td>2</td>\n",
       "      <td>9.0</td>\n",
       "      <td>9</td>\n",
       "      <td>16</td>\n",
       "      <td>2</td>\n",
       "      <td>...</td>\n",
       "      <td>1</td>\n",
       "      <td>4.0</td>\n",
       "      <td>2</td>\n",
       "      <td>NaN</td>\n",
       "      <td>2</td>\n",
       "      <td>NaN</td>\n",
       "      <td>México</td>\n",
       "      <td>NaN</td>\n",
       "      <td>2.0</td>\n",
       "      <td>Deceased</td>\n",
       "    </tr>\n",
       "    <tr>\n",
       "      <th>1</th>\n",
       "      <td>2023-05-16</td>\n",
       "      <td>0ed066</td>\n",
       "      <td>2</td>\n",
       "      <td>12</td>\n",
       "      <td>16</td>\n",
       "      <td>2</td>\n",
       "      <td>16.0</td>\n",
       "      <td>16</td>\n",
       "      <td>41</td>\n",
       "      <td>1</td>\n",
       "      <td>...</td>\n",
       "      <td>2</td>\n",
       "      <td>NaN</td>\n",
       "      <td>1</td>\n",
       "      <td>2.0</td>\n",
       "      <td>7</td>\n",
       "      <td>NaN</td>\n",
       "      <td>México</td>\n",
       "      <td>NaN</td>\n",
       "      <td>NaN</td>\n",
       "      <td>Dismissed no complications</td>\n",
       "    </tr>\n",
       "    <tr>\n",
       "      <th>2</th>\n",
       "      <td>2023-05-16</td>\n",
       "      <td>08c5f9</td>\n",
       "      <td>1</td>\n",
       "      <td>3</td>\n",
       "      <td>15</td>\n",
       "      <td>1</td>\n",
       "      <td>9.0</td>\n",
       "      <td>15</td>\n",
       "      <td>60</td>\n",
       "      <td>2</td>\n",
       "      <td>...</td>\n",
       "      <td>2</td>\n",
       "      <td>NaN</td>\n",
       "      <td>1</td>\n",
       "      <td>2.0</td>\n",
       "      <td>7</td>\n",
       "      <td>NaN</td>\n",
       "      <td>México</td>\n",
       "      <td>NaN</td>\n",
       "      <td>2.0</td>\n",
       "      <td>Ventilated or UCI</td>\n",
       "    </tr>\n",
       "    <tr>\n",
       "      <th>3</th>\n",
       "      <td>2023-05-16</td>\n",
       "      <td>0a1655</td>\n",
       "      <td>2</td>\n",
       "      <td>6</td>\n",
       "      <td>9</td>\n",
       "      <td>2</td>\n",
       "      <td>9.0</td>\n",
       "      <td>9</td>\n",
       "      <td>2</td>\n",
       "      <td>2</td>\n",
       "      <td>...</td>\n",
       "      <td>1</td>\n",
       "      <td>4.0</td>\n",
       "      <td>2</td>\n",
       "      <td>NaN</td>\n",
       "      <td>5</td>\n",
       "      <td>NaN</td>\n",
       "      <td>México</td>\n",
       "      <td>NaN</td>\n",
       "      <td>2.0</td>\n",
       "      <td>Ventilated or UCI</td>\n",
       "    </tr>\n",
       "    <tr>\n",
       "      <th>4</th>\n",
       "      <td>2023-05-16</td>\n",
       "      <td>13cf10</td>\n",
       "      <td>2</td>\n",
       "      <td>9</td>\n",
       "      <td>9</td>\n",
       "      <td>1</td>\n",
       "      <td>9.0</td>\n",
       "      <td>9</td>\n",
       "      <td>14</td>\n",
       "      <td>1</td>\n",
       "      <td>...</td>\n",
       "      <td>1</td>\n",
       "      <td>1.0</td>\n",
       "      <td>2</td>\n",
       "      <td>NaN</td>\n",
       "      <td>3</td>\n",
       "      <td>NaN</td>\n",
       "      <td>México</td>\n",
       "      <td>NaN</td>\n",
       "      <td>NaN</td>\n",
       "      <td>Dismissed no complications</td>\n",
       "    </tr>\n",
       "  </tbody>\n",
       "</table>\n",
       "<p>5 rows × 41 columns</p>\n",
       "</div>"
      ],
      "text/plain": [
       "  FECHA_ACTUALIZACION ID_REGISTRO  ORIGEN  SECTOR  ENTIDAD_UM  SEXO  \\\n",
       "0          2023-05-16      0741e4       2       6           9     2   \n",
       "1          2023-05-16      0ed066       2      12          16     2   \n",
       "2          2023-05-16      08c5f9       1       3          15     1   \n",
       "3          2023-05-16      0a1655       2       6           9     2   \n",
       "4          2023-05-16      13cf10       2       9           9     1   \n",
       "\n",
       "   ENTIDAD_NAC  ENTIDAD_RES  MUNICIPIO_RES  TIPO_PACIENTE  ...  \\\n",
       "0          9.0            9             16              2  ...   \n",
       "1         16.0           16             41              1  ...   \n",
       "2          9.0           15             60              2  ...   \n",
       "3          9.0            9              2              2  ...   \n",
       "4          9.0            9             14              1  ...   \n",
       "\n",
       "  TOMA_MUESTRA_LAB RESULTADO_LAB TOMA_MUESTRA_ANTIGENO  RESULTADO_ANTIGENO  \\\n",
       "0                1           4.0                     2                 NaN   \n",
       "1                2           NaN                     1                 2.0   \n",
       "2                2           NaN                     1                 2.0   \n",
       "3                1           4.0                     2                 NaN   \n",
       "4                1           1.0                     2                 NaN   \n",
       "\n",
       "   CLASIFICACION_FINAL  MIGRANTE  PAIS_NACIONALIDAD  PAIS_ORIGEN  UCI  \\\n",
       "0                    2       NaN             México          NaN  2.0   \n",
       "1                    7       NaN             México          NaN  NaN   \n",
       "2                    7       NaN             México          NaN  2.0   \n",
       "3                    5       NaN             México          NaN  2.0   \n",
       "4                    3       NaN             México          NaN  NaN   \n",
       "\n",
       "                       result  \n",
       "0                    Deceased  \n",
       "1  Dismissed no complications  \n",
       "2           Ventilated or UCI  \n",
       "3           Ventilated or UCI  \n",
       "4  Dismissed no complications  \n",
       "\n",
       "[5 rows x 41 columns]"
      ]
     },
     "execution_count": 122,
     "metadata": {},
     "output_type": "execute_result"
    }
   ],
   "source": [
    "df.head()"
   ]
  },
  {
   "cell_type": "code",
   "execution_count": 126,
   "id": "90ee4dff-5aad-4b2e-b0b3-6a79b6e816b9",
   "metadata": {
    "tags": []
   },
   "outputs": [
    {
     "data": {
      "text/plain": [
       "Index(['FECHA_ACTUALIZACION', 'ID_REGISTRO', 'ORIGEN', 'SECTOR', 'ENTIDAD_UM',\n",
       "       'SEXO', 'ENTIDAD_NAC', 'ENTIDAD_RES', 'MUNICIPIO_RES', 'TIPO_PACIENTE',\n",
       "       'FECHA_INGRESO', 'FECHA_SINTOMAS', 'FECHA_DEF', 'INTUBADO', 'NEUMONIA',\n",
       "       'EDAD', 'NACIONALIDAD', 'EMBARAZO', 'HABLA_LENGUA_INDIG', 'INDIGENA',\n",
       "       'DIABETES', 'EPOC', 'ASMA', 'INMUSUPR', 'HIPERTENSION', 'OTRA_COM',\n",
       "       'CARDIOVASCULAR', 'OBESIDAD', 'RENAL_CRONICA', 'TABAQUISMO',\n",
       "       'OTRO_CASO', 'TOMA_MUESTRA_LAB', 'RESULTADO_LAB',\n",
       "       'TOMA_MUESTRA_ANTIGENO', 'RESULTADO_ANTIGENO', 'CLASIFICACION_FINAL',\n",
       "       'MIGRANTE', 'PAIS_NACIONALIDAD', 'PAIS_ORIGEN', 'UCI', 'result'],\n",
       "      dtype='object')"
      ]
     },
     "execution_count": 126,
     "metadata": {},
     "output_type": "execute_result"
    }
   ],
   "source": [
    "df.columns"
   ]
  },
  {
   "cell_type": "code",
   "execution_count": 127,
   "id": "fcca5643-975b-4c7c-ab3c-d4ae2e1da939",
   "metadata": {
    "tags": []
   },
   "outputs": [
    {
     "data": {
      "text/plain": [
       "0       4.0\n",
       "1       NaN\n",
       "2       NaN\n",
       "3       4.0\n",
       "4       1.0\n",
       "       ... \n",
       "9995    2.0\n",
       "9996    2.0\n",
       "9997    2.0\n",
       "9998    NaN\n",
       "9999    1.0\n",
       "Name: RESULTADO_LAB, Length: 10000, dtype: float64"
      ]
     },
     "execution_count": 127,
     "metadata": {},
     "output_type": "execute_result"
    }
   ],
   "source": [
    "df.RESULTADO_LAB"
   ]
  },
  {
   "cell_type": "markdown",
   "id": "ac57863a-969b-4d7e-a039-141bac69dc2f",
   "metadata": {},
   "source": [
    "# Crosstabs"
   ]
  },
  {
   "cell_type": "code",
   "execution_count": 123,
   "id": "780aa6d5-2b86-4313-95be-b321ada54604",
   "metadata": {
    "tags": []
   },
   "outputs": [],
   "source": [
    "pre_conditions = ['DIABETES', 'EPOC', 'ASMA', 'INMUSUPR', 'HIPERTENSION', 'CARDIOVASCULAR', \n",
    "                  'OBESIDAD', 'RENAL_CRONICA', 'TABAQUISMO', 'OTRO_CASO', 'OTRA_COM']\n",
    "\n",
    "demographics = ['death', 'SEXO', 'EDAD', 'EMBARAZO', 'INDIGENA', 'MUNICIPIO_RES', 'MIGRANTE', 'PAIS_NACIONALIDAD', 'PAIS_ORIGEN']\n",
    "\n",
    "covid = [ 'death', 'TIPO_PACIENTE', 'TOMA_MUESTRA_ANTIGENO', \n",
    "         'RESULTADO_ANTIGENO', 'CLASIFICACION_FINAL', 'UCI', ]\n",
    "\n",
    "date = ['FECHA_INGRESO', 'FECHA_SINTOMAS', 'FECHA_DEF']"
   ]
  },
  {
   "cell_type": "code",
   "execution_count": 124,
   "id": "b03b6139-60f6-4c2c-a10c-b3a697e6fc53",
   "metadata": {
    "tags": []
   },
   "outputs": [
    {
     "data": {
      "text/html": [
       "<div>\n",
       "<style scoped>\n",
       "    .dataframe tbody tr th:only-of-type {\n",
       "        vertical-align: middle;\n",
       "    }\n",
       "\n",
       "    .dataframe tbody tr th {\n",
       "        vertical-align: top;\n",
       "    }\n",
       "\n",
       "    .dataframe thead th {\n",
       "        text-align: right;\n",
       "    }\n",
       "</style>\n",
       "<table border=\"1\" class=\"dataframe\">\n",
       "  <thead>\n",
       "    <tr style=\"text-align: right;\">\n",
       "      <th></th>\n",
       "      <th>FECHA_ACTUALIZACION</th>\n",
       "      <th>ID_REGISTRO</th>\n",
       "      <th>ORIGEN</th>\n",
       "      <th>SECTOR</th>\n",
       "      <th>ENTIDAD_UM</th>\n",
       "      <th>SEXO</th>\n",
       "      <th>ENTIDAD_NAC</th>\n",
       "      <th>ENTIDAD_RES</th>\n",
       "      <th>MUNICIPIO_RES</th>\n",
       "      <th>TIPO_PACIENTE</th>\n",
       "      <th>...</th>\n",
       "      <th>TOMA_MUESTRA_LAB</th>\n",
       "      <th>RESULTADO_LAB</th>\n",
       "      <th>TOMA_MUESTRA_ANTIGENO</th>\n",
       "      <th>RESULTADO_ANTIGENO</th>\n",
       "      <th>CLASIFICACION_FINAL</th>\n",
       "      <th>MIGRANTE</th>\n",
       "      <th>PAIS_NACIONALIDAD</th>\n",
       "      <th>PAIS_ORIGEN</th>\n",
       "      <th>UCI</th>\n",
       "      <th>result</th>\n",
       "    </tr>\n",
       "  </thead>\n",
       "  <tbody>\n",
       "    <tr>\n",
       "      <th>0</th>\n",
       "      <td>2023-05-16</td>\n",
       "      <td>0741e4</td>\n",
       "      <td>2</td>\n",
       "      <td>6</td>\n",
       "      <td>9</td>\n",
       "      <td>2</td>\n",
       "      <td>9.0</td>\n",
       "      <td>9</td>\n",
       "      <td>16</td>\n",
       "      <td>2</td>\n",
       "      <td>...</td>\n",
       "      <td>1</td>\n",
       "      <td>4.0</td>\n",
       "      <td>2</td>\n",
       "      <td>NaN</td>\n",
       "      <td>2</td>\n",
       "      <td>NaN</td>\n",
       "      <td>México</td>\n",
       "      <td>NaN</td>\n",
       "      <td>2.0</td>\n",
       "      <td>Deceased</td>\n",
       "    </tr>\n",
       "  </tbody>\n",
       "</table>\n",
       "<p>1 rows × 41 columns</p>\n",
       "</div>"
      ],
      "text/plain": [
       "  FECHA_ACTUALIZACION ID_REGISTRO  ORIGEN  SECTOR  ENTIDAD_UM  SEXO  \\\n",
       "0          2023-05-16      0741e4       2       6           9     2   \n",
       "\n",
       "   ENTIDAD_NAC  ENTIDAD_RES  MUNICIPIO_RES  TIPO_PACIENTE  ...  \\\n",
       "0          9.0            9             16              2  ...   \n",
       "\n",
       "  TOMA_MUESTRA_LAB RESULTADO_LAB TOMA_MUESTRA_ANTIGENO  RESULTADO_ANTIGENO  \\\n",
       "0                1           4.0                     2                 NaN   \n",
       "\n",
       "   CLASIFICACION_FINAL  MIGRANTE  PAIS_NACIONALIDAD  PAIS_ORIGEN  UCI  \\\n",
       "0                    2       NaN             México          NaN  2.0   \n",
       "\n",
       "     result  \n",
       "0  Deceased  \n",
       "\n",
       "[1 rows x 41 columns]"
      ]
     },
     "execution_count": 124,
     "metadata": {},
     "output_type": "execute_result"
    }
   ],
   "source": [
    "df.head(1)"
   ]
  },
  {
   "cell_type": "code",
   "execution_count": 125,
   "id": "5fc33557",
   "metadata": {
    "tags": []
   },
   "outputs": [
    {
     "data": {
      "text/plain": [
       "2.0    1358\n",
       "1.0     940\n",
       "4.0     140\n",
       "Name: RESULTADO_LAB, dtype: int64"
      ]
     },
     "execution_count": 125,
     "metadata": {},
     "output_type": "execute_result"
    }
   ],
   "source": [
    "data.RESULTADO_LAB.value_counts()"
   ]
  },
  {
   "cell_type": "code",
   "execution_count": null,
   "id": "b8580706-d106-4977-bc47-67c5414a5e91",
   "metadata": {},
   "outputs": [],
   "source": []
  }
 ],
 "metadata": {
  "kernelspec": {
   "display_name": "Python 3 (ipykernel)",
   "language": "python",
   "name": "python3"
  },
  "language_info": {
   "codemirror_mode": {
    "name": "ipython",
    "version": 3
   },
   "file_extension": ".py",
   "mimetype": "text/x-python",
   "name": "python",
   "nbconvert_exporter": "python",
   "pygments_lexer": "ipython3",
   "version": "3.9.14"
  }
 },
 "nbformat": 4,
 "nbformat_minor": 5
}
